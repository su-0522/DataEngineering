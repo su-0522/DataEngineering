{
 "cells": [
  {
   "cell_type": "code",
   "execution_count": 3,
   "id": "09791783-54f5-48e2-b347-70ee437d1ecc",
   "metadata": {},
   "outputs": [],
   "source": [
    "import psycopg2\n",
    "import pandas as pd"
   ]
  },
  {
   "cell_type": "code",
   "execution_count": 64,
   "id": "fd2f15c8-8b4b-4990-91a9-79e73207b9b9",
   "metadata": {},
   "outputs": [],
   "source": [
    "def create_database():\n",
    "    conn = psycopg2.connect(\"host=127.0.0.1 dbname=postgres user=postgres password=1234\")\n",
    "    cur = conn.cursor()\n",
    "    conn.set_session(autocommit=True)\n",
    "\n",
    "    cur.execute(\"CREATE DATABASE accounts\")\n",
    "\n",
    "    conn.close()\n",
    "\n",
    "    conn = psycopg2.connect(\"host=127.0.0.1 dbname=accounts user=postgres password=1234\")\n",
    "    cur = conn.cursor()\n",
    "    conn.set_session(autocommit=True)\n",
    "\n",
    "    return conn, cur"
   ]
  },
  {
   "cell_type": "code",
   "execution_count": 65,
   "id": "14b2016a-f0f4-402b-bd1f-126d2910c91b",
   "metadata": {},
   "outputs": [],
   "source": [
    "AccountsCountry = pd.read_csv(\"./Wealth-AccountsCountry.csv\")\n",
    "AccountsData = pd.read_csv(\"./Wealth-AccountData.csv\")\n",
    "AccountsSeries = pd.read_csv(\"./Wealth-AccountSeries.csv\")"
   ]
  },
  {
   "cell_type": "code",
   "execution_count": 66,
   "id": "5ca23b5f-3c81-4dd4-8319-417983414746",
   "metadata": {},
   "outputs": [],
   "source": [
    "AccountsCountry = AccountsCountry[['Code', 'Short Name', 'Long Name', 'Income Group']]"
   ]
  },
  {
   "cell_type": "code",
   "execution_count": 67,
   "id": "838ead62-7d8e-4c49-9f2e-43f9eb7568aa",
   "metadata": {},
   "outputs": [],
   "source": [
    "AccountsData = AccountsData[['Country Code', 'Country Name', 'Series Code', '2017 [YR2017]', '2018 [YR2018]']]"
   ]
  },
  {
   "cell_type": "code",
   "execution_count": 68,
   "id": "9b8ff1f0-2aee-41ae-b4c1-1412ccec9c36",
   "metadata": {},
   "outputs": [],
   "source": [
    "AccountsSeries = AccountsSeries[['Code', 'Topic', 'Indicator Name']]"
   ]
  },
  {
   "cell_type": "code",
   "execution_count": 69,
   "id": "6bb15fa2-08f7-40cb-bd00-ad92a941db7a",
   "metadata": {},
   "outputs": [
    {
     "data": {
      "text/html": [
       "<div>\n",
       "<style scoped>\n",
       "    .dataframe tbody tr th:only-of-type {\n",
       "        vertical-align: middle;\n",
       "    }\n",
       "\n",
       "    .dataframe tbody tr th {\n",
       "        vertical-align: top;\n",
       "    }\n",
       "\n",
       "    .dataframe thead th {\n",
       "        text-align: right;\n",
       "    }\n",
       "</style>\n",
       "<table border=\"1\" class=\"dataframe\">\n",
       "  <thead>\n",
       "    <tr style=\"text-align: right;\">\n",
       "      <th></th>\n",
       "      <th>Code</th>\n",
       "      <th>Short Name</th>\n",
       "      <th>Long Name</th>\n",
       "      <th>Income Group</th>\n",
       "    </tr>\n",
       "  </thead>\n",
       "  <tbody>\n",
       "    <tr>\n",
       "      <th>0</th>\n",
       "      <td>ALB</td>\n",
       "      <td>Albania</td>\n",
       "      <td>Republic of Albania</td>\n",
       "      <td>Upper middle income</td>\n",
       "    </tr>\n",
       "    <tr>\n",
       "      <th>1</th>\n",
       "      <td>ARG</td>\n",
       "      <td>Argentina</td>\n",
       "      <td>Argentine Republic</td>\n",
       "      <td>Upper middle income</td>\n",
       "    </tr>\n",
       "    <tr>\n",
       "      <th>2</th>\n",
       "      <td>ARM</td>\n",
       "      <td>Armenia</td>\n",
       "      <td>Republic of Armenia</td>\n",
       "      <td>Upper middle income</td>\n",
       "    </tr>\n",
       "    <tr>\n",
       "      <th>3</th>\n",
       "      <td>AUS</td>\n",
       "      <td>Australia</td>\n",
       "      <td>Commonwealth of Australia</td>\n",
       "      <td>High income</td>\n",
       "    </tr>\n",
       "    <tr>\n",
       "      <th>4</th>\n",
       "      <td>AUT</td>\n",
       "      <td>Austria</td>\n",
       "      <td>Republic of Austria</td>\n",
       "      <td>High income</td>\n",
       "    </tr>\n",
       "  </tbody>\n",
       "</table>\n",
       "</div>"
      ],
      "text/plain": [
       "  Code Short Name                  Long Name         Income Group\n",
       "0  ALB    Albania        Republic of Albania  Upper middle income\n",
       "1  ARG  Argentina         Argentine Republic  Upper middle income\n",
       "2  ARM    Armenia        Republic of Armenia  Upper middle income\n",
       "3  AUS  Australia  Commonwealth of Australia          High income\n",
       "4  AUT    Austria        Republic of Austria          High income"
      ]
     },
     "execution_count": 69,
     "metadata": {},
     "output_type": "execute_result"
    }
   ],
   "source": [
    "AccountsCountry.head()"
   ]
  },
  {
   "cell_type": "code",
   "execution_count": 70,
   "id": "1d7fa41b-c748-4fb1-afef-afc02fd4ef3d",
   "metadata": {},
   "outputs": [
    {
     "data": {
      "text/html": [
       "<div>\n",
       "<style scoped>\n",
       "    .dataframe tbody tr th:only-of-type {\n",
       "        vertical-align: middle;\n",
       "    }\n",
       "\n",
       "    .dataframe tbody tr th {\n",
       "        vertical-align: top;\n",
       "    }\n",
       "\n",
       "    .dataframe thead th {\n",
       "        text-align: right;\n",
       "    }\n",
       "</style>\n",
       "<table border=\"1\" class=\"dataframe\">\n",
       "  <thead>\n",
       "    <tr style=\"text-align: right;\">\n",
       "      <th></th>\n",
       "      <th>Country Code</th>\n",
       "      <th>Country Name</th>\n",
       "      <th>Series Code</th>\n",
       "      <th>2017 [YR2017]</th>\n",
       "      <th>2018 [YR2018]</th>\n",
       "    </tr>\n",
       "  </thead>\n",
       "  <tbody>\n",
       "    <tr>\n",
       "      <th>0</th>\n",
       "      <td>ALB</td>\n",
       "      <td>Albania</td>\n",
       "      <td>NW.HCA.TO</td>\n",
       "      <td>7.80E+10</td>\n",
       "      <td>8.12E+10</td>\n",
       "    </tr>\n",
       "    <tr>\n",
       "      <th>1</th>\n",
       "      <td>ALB</td>\n",
       "      <td>Albania</td>\n",
       "      <td>NW.HCA.PC</td>\n",
       "      <td>27160.86</td>\n",
       "      <td>28333.68</td>\n",
       "    </tr>\n",
       "    <tr>\n",
       "      <th>2</th>\n",
       "      <td>ALB</td>\n",
       "      <td>Albania</td>\n",
       "      <td>NW.HCA.FEMP.PC</td>\n",
       "      <td>3178.417</td>\n",
       "      <td>3312.927</td>\n",
       "    </tr>\n",
       "    <tr>\n",
       "      <th>3</th>\n",
       "      <td>ALB</td>\n",
       "      <td>Albania</td>\n",
       "      <td>NW.HCA.MEMP.PC</td>\n",
       "      <td>18445.94</td>\n",
       "      <td>19245.19</td>\n",
       "    </tr>\n",
       "    <tr>\n",
       "      <th>4</th>\n",
       "      <td>ALB</td>\n",
       "      <td>Albania</td>\n",
       "      <td>NW.HCA.FEMA.PC</td>\n",
       "      <td>3992.188</td>\n",
       "      <td>4161.137</td>\n",
       "    </tr>\n",
       "  </tbody>\n",
       "</table>\n",
       "</div>"
      ],
      "text/plain": [
       "  Country Code Country Name     Series Code 2017 [YR2017] 2018 [YR2018]\n",
       "0          ALB      Albania       NW.HCA.TO      7.80E+10      8.12E+10\n",
       "1          ALB      Albania       NW.HCA.PC      27160.86      28333.68\n",
       "2          ALB      Albania  NW.HCA.FEMP.PC      3178.417      3312.927\n",
       "3          ALB      Albania  NW.HCA.MEMP.PC      18445.94      19245.19\n",
       "4          ALB      Albania  NW.HCA.FEMA.PC      3992.188      4161.137"
      ]
     },
     "execution_count": 70,
     "metadata": {},
     "output_type": "execute_result"
    }
   ],
   "source": [
    "AccountsData.head()"
   ]
  },
  {
   "cell_type": "code",
   "execution_count": 71,
   "id": "59791a39-f467-403f-a0ca-335f71b20a12",
   "metadata": {},
   "outputs": [
    {
     "data": {
      "text/html": [
       "<div>\n",
       "<style scoped>\n",
       "    .dataframe tbody tr th:only-of-type {\n",
       "        vertical-align: middle;\n",
       "    }\n",
       "\n",
       "    .dataframe tbody tr th {\n",
       "        vertical-align: top;\n",
       "    }\n",
       "\n",
       "    .dataframe thead th {\n",
       "        text-align: right;\n",
       "    }\n",
       "</style>\n",
       "<table border=\"1\" class=\"dataframe\">\n",
       "  <thead>\n",
       "    <tr style=\"text-align: right;\">\n",
       "      <th></th>\n",
       "      <th>Code</th>\n",
       "      <th>Topic</th>\n",
       "      <th>Indicator Name</th>\n",
       "    </tr>\n",
       "  </thead>\n",
       "  <tbody>\n",
       "    <tr>\n",
       "      <th>0</th>\n",
       "      <td>NW.HCA.TO</td>\n",
       "      <td>Human capital</td>\n",
       "      <td>Human capital (constant 2018 US$)</td>\n",
       "    </tr>\n",
       "    <tr>\n",
       "      <th>1</th>\n",
       "      <td>NW.HCA.PC</td>\n",
       "      <td>Human capital</td>\n",
       "      <td>Human capital per capita (constant 2018 US$)</td>\n",
       "    </tr>\n",
       "    <tr>\n",
       "      <th>2</th>\n",
       "      <td>NW.HCA.FEMP.PC</td>\n",
       "      <td>Human capital</td>\n",
       "      <td>Human capital per capita, employed female (con...</td>\n",
       "    </tr>\n",
       "    <tr>\n",
       "      <th>3</th>\n",
       "      <td>NW.HCA.MEMP.PC</td>\n",
       "      <td>Human capital</td>\n",
       "      <td>Human capital per capita, employed male (const...</td>\n",
       "    </tr>\n",
       "    <tr>\n",
       "      <th>4</th>\n",
       "      <td>NW.HCA.FEMA.PC</td>\n",
       "      <td>Human capital</td>\n",
       "      <td>Human capital per capita, female (constant 201...</td>\n",
       "    </tr>\n",
       "  </tbody>\n",
       "</table>\n",
       "</div>"
      ],
      "text/plain": [
       "             Code          Topic  \\\n",
       "0       NW.HCA.TO  Human capital   \n",
       "1       NW.HCA.PC  Human capital   \n",
       "2  NW.HCA.FEMP.PC  Human capital   \n",
       "3  NW.HCA.MEMP.PC  Human capital   \n",
       "4  NW.HCA.FEMA.PC  Human capital   \n",
       "\n",
       "                                      Indicator Name  \n",
       "0                  Human capital (constant 2018 US$)  \n",
       "1       Human capital per capita (constant 2018 US$)  \n",
       "2  Human capital per capita, employed female (con...  \n",
       "3  Human capital per capita, employed male (const...  \n",
       "4  Human capital per capita, female (constant 201...  "
      ]
     },
     "execution_count": 71,
     "metadata": {},
     "output_type": "execute_result"
    }
   ],
   "source": [
    "AccountsSeries.head()"
   ]
  },
  {
   "cell_type": "code",
   "execution_count": 72,
   "id": "988080ec-4208-47b4-8997-34c3c0986961",
   "metadata": {},
   "outputs": [],
   "source": [
    "conn, cur = create_database()"
   ]
  },
  {
   "cell_type": "code",
   "execution_count": 74,
   "id": "774e0ffd-8f05-4b4e-ade1-c3c483c24ad1",
   "metadata": {},
   "outputs": [],
   "source": [
    "cur.execute(\"\"\"CREATE TABLE IF NOT EXISTS account_country(\n",
    "country_code VARCHAR,\n",
    "short_name VARCHAR,\n",
    "long_name VARCHAR,\n",
    "income_group VARCHAR\n",
    ")\"\"\")"
   ]
  },
  {
   "cell_type": "code",
   "execution_count": 77,
   "id": "5a393316-1354-4a94-8644-5fc9f3006dfc",
   "metadata": {},
   "outputs": [],
   "source": [
    "cur.execute(\"\"\"CREATE TABLE IF NOT EXISTS account_data(\n",
    "country_code VARCHAR,\n",
    "country_name VARCHAR,\n",
    "series_code VARCHAR,\n",
    "y_2017 numeric,\n",
    "y_2018 numeric\n",
    ")\"\"\")"
   ]
  },
  {
   "cell_type": "code",
   "execution_count": 78,
   "id": "4ad41b4a-f1b8-4dd2-ab77-75d42650c939",
   "metadata": {},
   "outputs": [],
   "source": [
    "cur.execute(\"\"\"CREATE TABLE IF NOT EXISTS account_series(\n",
    "series_code VARCHAR,\n",
    "topic VARCHAR,\n",
    "indicator_name VARCHAR\n",
    ")\"\"\")"
   ]
  },
  {
   "cell_type": "code",
   "execution_count": 80,
   "id": "de9ca136-aa48-4079-8442-e38409ef78e5",
   "metadata": {},
   "outputs": [],
   "source": [
    "account_country_insert = \"\"\"INSERT INTO account_country(\n",
    "country_code,\n",
    "short_name,\n",
    "long_name,\n",
    "income_group)\n",
    "VALUES (%s, %s, %s, %s)\n",
    "\"\"\""
   ]
  },
  {
   "cell_type": "code",
   "execution_count": 83,
   "id": "601761cf-c3bd-4148-a81b-683397453142",
   "metadata": {},
   "outputs": [],
   "source": [
    "for i, row in AccountsCountry.iterrows():\n",
    "    cur.execute(account_country_insert, list(row))"
   ]
  },
  {
   "cell_type": "code",
   "execution_count": 85,
   "id": "8cf86e00-2f8b-4469-a58a-84ab424b49e1",
   "metadata": {},
   "outputs": [],
   "source": [
    "account_data_insert = \"\"\"INSERT INTO account_data(\n",
    "country_code,\n",
    "country_name,\n",
    "series_code,\n",
    "y_2017,\n",
    "y_2018)\n",
    "VALUES (%s, %s, %s, %s, %s)\n",
    "\"\"\""
   ]
  },
  {
   "cell_type": "code",
   "execution_count": 86,
   "id": "83d1f81b-f5b8-4550-a839-cfd55b76d1bc",
   "metadata": {},
   "outputs": [
    {
     "ename": "InvalidTextRepresentation",
     "evalue": "invalid input syntax for type numeric: \"..\"\nLINE 7: VALUES ('BLZ', 'Belize', 'NW.NCA.SAGA.PC', '0', '..')\n                                                        ^\n",
     "output_type": "error",
     "traceback": [
      "\u001b[0;31m---------------------------------------------------------------------------\u001b[0m",
      "\u001b[0;31mInvalidTextRepresentation\u001b[0m                 Traceback (most recent call last)",
      "Cell \u001b[0;32mIn[86], line 2\u001b[0m\n\u001b[1;32m      1\u001b[0m \u001b[38;5;28;01mfor\u001b[39;00m i, row \u001b[38;5;129;01min\u001b[39;00m AccountsData\u001b[38;5;241m.\u001b[39miterrows():\n\u001b[0;32m----> 2\u001b[0m     \u001b[43mcur\u001b[49m\u001b[38;5;241;43m.\u001b[39;49m\u001b[43mexecute\u001b[49m\u001b[43m(\u001b[49m\u001b[43maccount_data_insert\u001b[49m\u001b[43m,\u001b[49m\u001b[43m \u001b[49m\u001b[38;5;28;43mlist\u001b[39;49m\u001b[43m(\u001b[49m\u001b[43mrow\u001b[49m\u001b[43m)\u001b[49m\u001b[43m)\u001b[49m\n",
      "\u001b[0;31mInvalidTextRepresentation\u001b[0m: invalid input syntax for type numeric: \"..\"\nLINE 7: VALUES ('BLZ', 'Belize', 'NW.NCA.SAGA.PC', '0', '..')\n                                                        ^\n"
     ]
    }
   ],
   "source": [
    "for i, row in AccountsData.iterrows():\n",
    "    cur.execute(account_data_insert, list(row))"
   ]
  },
  {
   "cell_type": "code",
   "execution_count": 91,
   "id": "791e3630-0505-4069-95e6-0836e71d6221",
   "metadata": {},
   "outputs": [],
   "source": [
    "account_series_insert = \"\"\"INSERT INTO account_series(\n",
    "series_code,\n",
    "topic,\n",
    "indicator_name)\n",
    "VALUES (%s, %s, %s)\n",
    "\"\"\""
   ]
  },
  {
   "cell_type": "code",
   "execution_count": 92,
   "id": "cb4bc077-bebd-48d3-998e-70718b3a3542",
   "metadata": {},
   "outputs": [],
   "source": [
    "for i, row in AccountsSeries.iterrows():\n",
    "    cur.execute(account_series_insert, list(row))"
   ]
  },
  {
   "cell_type": "code",
   "execution_count": null,
   "id": "8eb2185c-ad9f-4322-9bbb-9624663e5dc3",
   "metadata": {},
   "outputs": [],
   "source": []
  }
 ],
 "metadata": {
  "kernelspec": {
   "display_name": "py38",
   "language": "python",
   "name": "py38"
  },
  "language_info": {
   "codemirror_mode": {
    "name": "ipython",
    "version": 3
   },
   "file_extension": ".py",
   "mimetype": "text/x-python",
   "name": "python",
   "nbconvert_exporter": "python",
   "pygments_lexer": "ipython3",
   "version": "3.8.18"
  }
 },
 "nbformat": 4,
 "nbformat_minor": 5
}
